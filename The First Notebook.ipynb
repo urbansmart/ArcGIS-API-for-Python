{
 "cells": [
  {
   "cell_type": "markdown",
   "metadata": {},
   "source": [
    "# 1. Test environment"
   ]
  },
  {
   "cell_type": "code",
   "execution_count": 1,
   "metadata": {
    "scrolled": true
   },
   "outputs": [
    {
     "data": {
      "application/vnd.jupyter.widget-view+json": {
       "model_id": "c648024e32b84dcd878685e453443745",
       "version_major": 2,
       "version_minor": 0
      },
      "text/plain": [
       "MapView(layout=Layout(height='400px', width='100%'))"
      ]
     },
     "metadata": {},
     "output_type": "display_data"
    }
   ],
   "source": [
    "from arcgis.gis import GIS\n",
    "my_gis = GIS()\n",
    "my_gis.map()"
   ]
  },
  {
   "cell_type": "markdown",
   "metadata": {},
   "source": [
    "# 2. The first notebook"
   ]
  },
  {
   "cell_type": "markdown",
   "metadata": {},
   "source": [
    "## 2.1 Getting started with the API"
   ]
  },
  {
   "cell_type": "code",
   "execution_count": 13,
   "metadata": {},
   "outputs": [],
   "source": [
    "# Import ArcGIS API for Python into the notebook\n",
    "from arcgis.gis import GIS"
   ]
  },
  {
   "cell_type": "code",
   "execution_count": 14,
   "metadata": {},
   "outputs": [],
   "source": [
    "# Create an anonymous connection to ArcGIS Online\n",
    "gis = GIS()"
   ]
  },
  {
   "cell_type": "code",
   "execution_count": 7,
   "metadata": {},
   "outputs": [],
   "source": [
    "# Connect to ArcGIS Online and query feature layers that have the word \"Fire\" in the description. Keep the first 5 records.\n",
    "public_content = gis.content.search(\"Fire\", item_type=\"Feature Layer\", max_items=5)"
   ]
  },
  {
   "cell_type": "code",
   "execution_count": 8,
   "metadata": {},
   "outputs": [
    {
     "data": {
      "text/plain": [
       "[<Item title:\"Energy Consumption and Greenhouse Gas Emissions\" type:Feature Layer Collection owner:BramptonMaps>,\n",
       " <Item title:\"Social Vulnerability 2010\" type:Feature Layer Collection owner:AtlasPublisher>,\n",
       " <Item title:\"Intact Forest Landscapes (2000)\" type:Feature Layer Collection owner:GlobalForestWatch>,\n",
       " <Item title:\"WRI_BeforeAndAfterPhotos\" type:Feature Layer Collection owner:FireFFSL>,\n",
       " <Item title:\"מיפוי שריפה חדש\" type:Feature Layer Collection owner:kkl_arcgis_10>]"
      ]
     },
     "execution_count": 8,
     "metadata": {},
     "output_type": "execute_result"
    }
   ],
   "source": [
    "# see contents under public_content\n",
    "public_content"
   ]
  },
  {
   "cell_type": "code",
   "execution_count": 9,
   "metadata": {},
   "outputs": [
    {
     "data": {
      "text/html": [
       "<div class=\"item_container\" style=\"height: auto; overflow: hidden; border: 1px solid #cfcfcf; border-radius: 2px; background: #f6fafa; line-height: 1.21429em; padding: 10px;\">\n",
       "                    <div class=\"item_left\" style=\"width: 210px; float: left;\">\n",
       "                       <a href='https://www.arcgis.com/home/item.html?id=a7ae04db763c434f8834e5e7c81f6c67' target='_blank'>\n",
       "                        <img src='https://www.arcgis.com/sharing/rest//content/items/a7ae04db763c434f8834e5e7c81f6c67/info/thumbnail/thumbnail.jpeg' class=\"itemThumbnail\">\n",
       "                       </a>\n",
       "                    </div>\n",
       "\n",
       "                    <div class=\"item_right\"     style=\"float: none; width: auto; overflow: hidden;\">\n",
       "                        <a href='https://www.arcgis.com/home/item.html?id=a7ae04db763c434f8834e5e7c81f6c67' target='_blank'><b>Energy Consumption and Greenhouse Gas Emissions</b>\n",
       "                        </a>\n",
       "                        <br/>City facilities and their energy consumption and greenhouse gas emissions.<img src='https://www.arcgis.com/home/js/jsapi/esri/css/images/item_type_icons/featureshosted16.png' style=\"vertical-align:middle;\">Feature Layer Collection by BramptonMaps\n",
       "                        <br/>Last Modified: January 29, 2019\n",
       "                        <br/>0 comments, 1,899 views\n",
       "                    </div>\n",
       "                </div>\n",
       "                "
      ],
      "text/plain": [
       "<Item title:\"Energy Consumption and Greenhouse Gas Emissions\" type:Feature Layer Collection owner:BramptonMaps>"
      ]
     },
     "metadata": {},
     "output_type": "display_data"
    },
    {
     "data": {
      "text/html": [
       "<div class=\"item_container\" style=\"height: auto; overflow: hidden; border: 1px solid #cfcfcf; border-radius: 2px; background: #f6fafa; line-height: 1.21429em; padding: 10px;\">\n",
       "                    <div class=\"item_left\" style=\"width: 210px; float: left;\">\n",
       "                       <a href='https://www.arcgis.com/home/item.html?id=eee333118bd740268ba1cad0b78f83d6' target='_blank'>\n",
       "                        <img src='https://www.arcgis.com/sharing/rest//content/items/eee333118bd740268ba1cad0b78f83d6/info/thumbnail/ago_downloaded2.png' class=\"itemThumbnail\">\n",
       "                       </a>\n",
       "                    </div>\n",
       "\n",
       "                    <div class=\"item_right\"     style=\"float: none; width: auto; overflow: hidden;\">\n",
       "                        <a href='https://www.arcgis.com/home/item.html?id=eee333118bd740268ba1cad0b78f83d6' target='_blank'><b>Social Vulnerability 2010</b>\n",
       "                        </a>\n",
       "                        <br/>This map shows a simple summary of social vulnerability of populations in the United States.<img src='https://www.arcgis.com/home/js/jsapi/esri/css/images/item_type_icons/featureshosted16.png' style=\"vertical-align:middle;\">Feature Layer Collection by AtlasPublisher\n",
       "                        <br/>Last Modified: July 19, 2018\n",
       "                        <br/>0 comments, 285,479 views\n",
       "                    </div>\n",
       "                </div>\n",
       "                "
      ],
      "text/plain": [
       "<Item title:\"Social Vulnerability 2010\" type:Feature Layer Collection owner:AtlasPublisher>"
      ]
     },
     "metadata": {},
     "output_type": "display_data"
    },
    {
     "data": {
      "text/html": [
       "<div class=\"item_container\" style=\"height: auto; overflow: hidden; border: 1px solid #cfcfcf; border-radius: 2px; background: #f6fafa; line-height: 1.21429em; padding: 10px;\">\n",
       "                    <div class=\"item_left\" style=\"width: 210px; float: left;\">\n",
       "                       <a href='https://www.arcgis.com/home/item.html?id=5a811508e1ab4ddbb79f7f0753d7d2d7' target='_blank'>\n",
       "                        <img src='https://www.arcgis.com/sharing/rest//content/items/5a811508e1ab4ddbb79f7f0753d7d2d7/info/thumbnail/ago_downloaded.png' class=\"itemThumbnail\">\n",
       "                       </a>\n",
       "                    </div>\n",
       "\n",
       "                    <div class=\"item_right\"     style=\"float: none; width: auto; overflow: hidden;\">\n",
       "                        <a href='https://www.arcgis.com/home/item.html?id=5a811508e1ab4ddbb79f7f0753d7d2d7' target='_blank'><b>Intact Forest Landscapes (2000)</b>\n",
       "                        </a>\n",
       "                        <br/>Identifies the world’s last remaining unfragmented forest landscapes, large enough to retain all native biodiversity and showing no signs of human alteration as of the year 2016. This layer also shows the reduction in the extent of Intact Forest Landscapes from 2000 to 2016.<img src='https://www.arcgis.com/home/js/jsapi/esri/css/images/item_type_icons/featureshosted16.png' style=\"vertical-align:middle;\">Feature Layer Collection by GlobalForestWatch\n",
       "                        <br/>Last Modified: April 02, 2019\n",
       "                        <br/>0 comments, 3,906 views\n",
       "                    </div>\n",
       "                </div>\n",
       "                "
      ],
      "text/plain": [
       "<Item title:\"Intact Forest Landscapes (2000)\" type:Feature Layer Collection owner:GlobalForestWatch>"
      ]
     },
     "metadata": {},
     "output_type": "display_data"
    },
    {
     "data": {
      "text/html": [
       "<div class=\"item_container\" style=\"height: auto; overflow: hidden; border: 1px solid #cfcfcf; border-radius: 2px; background: #f6fafa; line-height: 1.21429em; padding: 10px;\">\n",
       "                    <div class=\"item_left\" style=\"width: 210px; float: left;\">\n",
       "                       <a href='https://www.arcgis.com/home/item.html?id=8c79338b862843afb99923fe8572c939' target='_blank'>\n",
       "                        <img src='https://www.arcgis.com/sharing/rest//content/items/8c79338b862843afb99923fe8572c939/info/thumbnail/SkitzyAfter.jpg' class=\"itemThumbnail\">\n",
       "                       </a>\n",
       "                    </div>\n",
       "\n",
       "                    <div class=\"item_right\"     style=\"float: none; width: auto; overflow: hidden;\">\n",
       "                        <a href='https://www.arcgis.com/home/item.html?id=8c79338b862843afb99923fe8572c939' target='_blank'><b>WRI_BeforeAndAfterPhotos</b>\n",
       "                        </a>\n",
       "                        <br/>WRI Projects with Before and After Photos<img src='https://www.arcgis.com/home/js/jsapi/esri/css/images/item_type_icons/featureshosted16.png' style=\"vertical-align:middle;\">Feature Layer Collection by FireFFSL\n",
       "                        <br/>Last Modified: January 24, 2018\n",
       "                        <br/>0 comments, 9,489 views\n",
       "                    </div>\n",
       "                </div>\n",
       "                "
      ],
      "text/plain": [
       "<Item title:\"WRI_BeforeAndAfterPhotos\" type:Feature Layer Collection owner:FireFFSL>"
      ]
     },
     "metadata": {},
     "output_type": "display_data"
    },
    {
     "data": {
      "text/html": [
       "<div class=\"item_container\" style=\"height: auto; overflow: hidden; border: 1px solid #cfcfcf; border-radius: 2px; background: #f6fafa; line-height: 1.21429em; padding: 10px;\">\n",
       "                    <div class=\"item_left\" style=\"width: 210px; float: left;\">\n",
       "                       <a href='https://www.arcgis.com/home/item.html?id=f867e79cccbd4ac1909e5883e323d0d7' target='_blank'>\n",
       "                        <img src='https://www.arcgis.com/sharing/rest//content/items/f867e79cccbd4ac1909e5883e323d0d7/info/thumbnail/ago_downloaded.png' class=\"itemThumbnail\">\n",
       "                       </a>\n",
       "                    </div>\n",
       "\n",
       "                    <div class=\"item_right\"     style=\"float: none; width: auto; overflow: hidden;\">\n",
       "                        <a href='https://www.arcgis.com/home/item.html?id=f867e79cccbd4ac1909e5883e323d0d7' target='_blank'><b>מיפוי שריפה חדש</b>\n",
       "                        </a>\n",
       "                        <br/>שכבה פוליגונלית של היקף שריפה חיה איתה עובדים באופן שוטף ומעדכנים בקולקטור<img src='https://www.arcgis.com/home/js/jsapi/esri/css/images/item_type_icons/featureshosted16.png' style=\"vertical-align:middle;\">Feature Layer Collection by kkl_arcgis_10\n",
       "                        <br/>Last Modified: February 05, 2019\n",
       "                        <br/>0 comments, 23,538 views\n",
       "                    </div>\n",
       "                </div>\n",
       "                "
      ],
      "text/plain": [
       "<Item title:\"מיפוי שריפה חדש\" type:Feature Layer Collection owner:kkl_arcgis_10>"
      ]
     },
     "metadata": {},
     "output_type": "display_data"
    }
   ],
   "source": [
    "# display search results\n",
    "from IPython.display import display\n",
    "for item in public_content:\n",
    "    display(item)"
   ]
  },
  {
   "cell_type": "code",
   "execution_count": 15,
   "metadata": {},
   "outputs": [
    {
     "data": {
      "text/html": [
       "<div class=\"item_container\" style=\"height: auto; overflow: hidden; border: 1px solid #cfcfcf; border-radius: 2px; background: #f6fafa; line-height: 1.21429em; padding: 10px;\">\n",
       "                    <div class=\"item_left\" style=\"width: 210px; float: left;\">\n",
       "                       <a href='https://www.arcgis.com/home/item.html?id=a7ae04db763c434f8834e5e7c81f6c67' target='_blank'>\n",
       "                        <img src='https://www.arcgis.com/sharing/rest//content/items/a7ae04db763c434f8834e5e7c81f6c67/info/thumbnail/thumbnail.jpeg' class=\"itemThumbnail\">\n",
       "                       </a>\n",
       "                    </div>\n",
       "\n",
       "                    <div class=\"item_right\"     style=\"float: none; width: auto; overflow: hidden;\">\n",
       "                        <a href='https://www.arcgis.com/home/item.html?id=a7ae04db763c434f8834e5e7c81f6c67' target='_blank'><b>Energy Consumption and Greenhouse Gas Emissions</b>\n",
       "                        </a>\n",
       "                        <br/>City facilities and their energy consumption and greenhouse gas emissions.<img src='https://www.arcgis.com/home/js/jsapi/esri/css/images/item_type_icons/featureshosted16.png' style=\"vertical-align:middle;\">Feature Layer Collection by BramptonMaps\n",
       "                        <br/>Last Modified: January 29, 2019\n",
       "                        <br/>0 comments, 1,899 views\n",
       "                    </div>\n",
       "                </div>\n",
       "                "
      ],
      "text/plain": [
       "<Item title:\"Energy Consumption and Greenhouse Gas Emissions\" type:Feature Layer Collection owner:BramptonMaps>"
      ]
     },
     "metadata": {},
     "output_type": "display_data"
    }
   ],
   "source": [
    "# pick the first item\n",
    "example_item = public_content[0]\n",
    "display(example_item)"
   ]
  },
  {
   "cell_type": "code",
   "execution_count": 16,
   "metadata": {},
   "outputs": [
    {
     "data": {
      "application/vnd.jupyter.widget-view+json": {
       "model_id": "617b26a0ab0442ca89fce7f6a2bb42c8",
       "version_major": 2,
       "version_minor": 0
      },
      "text/plain": [
       "MapView(layout=Layout(height='400px', width='100%'))"
      ]
     },
     "metadata": {},
     "output_type": "display_data"
    }
   ],
   "source": [
    "#Create a new map object\n",
    "map1 = gis.map()\n",
    "#Focus the map to the part of the world containing the example item\n",
    "map1.extent = example_item.extent\n",
    "#Display the map\n",
    "map1"
   ]
  },
  {
   "cell_type": "code",
   "execution_count": 17,
   "metadata": {},
   "outputs": [],
   "source": [
    "# add example_item to the map just created\n",
    "map1.add_layer(example_item)"
   ]
  }
 ],
 "metadata": {
  "kernelspec": {
   "display_name": "Python 3",
   "language": "python",
   "name": "python3"
  },
  "language_info": {
   "codemirror_mode": {
    "name": "ipython",
    "version": 3
   },
   "file_extension": ".py",
   "mimetype": "text/x-python",
   "name": "python",
   "nbconvert_exporter": "python",
   "pygments_lexer": "ipython3",
   "version": "3.6.6"
  }
 },
 "nbformat": 4,
 "nbformat_minor": 2
}
